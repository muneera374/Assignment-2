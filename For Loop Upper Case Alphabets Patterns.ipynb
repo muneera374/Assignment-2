{
 "cells": [
  {
   "cell_type": "code",
   "execution_count": 2,
   "id": "7cd10c52",
   "metadata": {},
   "outputs": [
    {
     "name": "stdout",
     "output_type": "stream",
     "text": [
      "      *\n",
      "    *   *\n",
      "   *     *\n",
      "  * * * * * \n",
      " *         *\n",
      "*           *\n"
     ]
    }
   ],
   "source": [
    "\n",
    "for x in range(1,7):\n",
    "    if x==5:\n",
    "        print(\" *         *\")\n",
    "    elif x==6:\n",
    "        print(\"*           *\")\n",
    "    elif x==4:\n",
    "        print(\"  * * * * * \")\n",
    "    elif x==3:\n",
    "        print(\"   *     *\")\n",
    "    elif x==2:\n",
    "        print(\"    *   *\")\n",
    "    else:\n",
    "        print(\"      *\")"
   ]
  },
  {
   "cell_type": "code",
   "execution_count": 3,
   "id": "0b244ecb",
   "metadata": {},
   "outputs": [
    {
     "name": "stdout",
     "output_type": "stream",
     "text": [
      "******\n",
      "*     *\n",
      "*     *\n",
      "* * *\n",
      "*     *\n",
      "*     *\n",
      "******\n"
     ]
    }
   ],
   "source": [
    "for x in range(1,8):\n",
    "    if x==1 or x==7:\n",
    "        print(\"******\")\n",
    "    elif x==2 or x==6 or x==3 or x==5:\n",
    "        print(\"*     *\")\n",
    "    else:\n",
    "        print(\"* * *\")"
   ]
  },
  {
   "cell_type": "code",
   "execution_count": 4,
   "id": "35625715",
   "metadata": {},
   "outputs": [
    {
     "name": "stdout",
     "output_type": "stream",
     "text": [
      "*********\n",
      "*     \n",
      "*     \n",
      "*     \n",
      "*     \n",
      "*********\n"
     ]
    }
   ],
   "source": [
    "for x in range(1,7):\n",
    "    if x==1 or x==6:\n",
    "        print(\"*********\")\n",
    "    else:\n",
    "        print(\"*     \")"
   ]
  },
  {
   "cell_type": "code",
   "execution_count": 5,
   "id": "e10bb637",
   "metadata": {},
   "outputs": [
    {
     "name": "stdout",
     "output_type": "stream",
     "text": [
      "*********\n",
      "*        *\n",
      "*        *\n",
      "*        *\n",
      "*        *\n",
      "*********\n"
     ]
    }
   ],
   "source": [
    "for x in range(1,7):\n",
    "    if x==1 or x==6:\n",
    "        print(\"*********\")\n",
    "    else:\n",
    "        print(\"*        *\")"
   ]
  },
  {
   "cell_type": "code",
   "execution_count": 6,
   "id": "a687281e",
   "metadata": {},
   "outputs": [
    {
     "name": "stdout",
     "output_type": "stream",
     "text": [
      "*********\n",
      "*        \n",
      "*        \n",
      "*********\n",
      "*        \n",
      "*        \n",
      "*********\n"
     ]
    }
   ],
   "source": [
    "for x in range(1,8):\n",
    "    if x==1 or x==7 or x==4:\n",
    "        print(\"*********\")\n",
    "    else:\n",
    "        print(\"*        \")"
   ]
  },
  {
   "cell_type": "code",
   "execution_count": 7,
   "id": "5fe79ebb",
   "metadata": {},
   "outputs": [
    {
     "name": "stdout",
     "output_type": "stream",
     "text": [
      "*********\n",
      "*        \n",
      "*        \n",
      "*********\n",
      "*        \n",
      "*        \n",
      "*        \n"
     ]
    }
   ],
   "source": [
    "for x in range(1,8):\n",
    "    if x==1 or x==4:\n",
    "        print(\"*********\")\n",
    "    else:\n",
    "        print(\"*        \")"
   ]
  },
  {
   "cell_type": "code",
   "execution_count": 8,
   "id": "54ef0f32",
   "metadata": {},
   "outputs": [
    {
     "name": "stdout",
     "output_type": "stream",
     "text": [
      "**********\n",
      "*\n",
      "*\n",
      "*  *******\n",
      "*        *\n",
      "*        *\n",
      "**********\n"
     ]
    }
   ],
   "source": [
    "for x in range(1,8):\n",
    "    if x==1 or x==7:\n",
    "        print(\"**********\")\n",
    "    elif x==4:\n",
    "        print(\"*  *******\")\n",
    "    elif x==2 or x==3:\n",
    "        print(\"*\")\n",
    "    else:\n",
    "        print(\"*        *\")"
   ]
  },
  {
   "cell_type": "code",
   "execution_count": 9,
   "id": "9705e1bf",
   "metadata": {},
   "outputs": [
    {
     "name": "stdout",
     "output_type": "stream",
     "text": [
      "*      *\n",
      "*      *\n",
      "*      *\n",
      "********\n",
      "*      *\n",
      "*      *\n",
      "*      *\n"
     ]
    }
   ],
   "source": [
    "for x in range(1,8):\n",
    "    if x==4:\n",
    "        print(\"********\")\n",
    "    else:\n",
    "        print(\"*      *\")"
   ]
  },
  {
   "cell_type": "code",
   "execution_count": 10,
   "id": "3b55d521",
   "metadata": {},
   "outputs": [
    {
     "name": "stdout",
     "output_type": "stream",
     "text": [
      "*******\n",
      "   *   \n",
      "   *   \n",
      "   *   \n",
      "   *   \n",
      "   *   \n",
      "*******\n"
     ]
    }
   ],
   "source": [
    "for x in range(1,8):\n",
    "    if x==1 or x==7:\n",
    "        print(\"*******\")\n",
    "    else:\n",
    "        print(\"   *   \")"
   ]
  },
  {
   "cell_type": "code",
   "execution_count": 11,
   "id": "37777f0a",
   "metadata": {},
   "outputs": [
    {
     "name": "stdout",
     "output_type": "stream",
     "text": [
      "**********\n",
      "     *\n",
      "     *\n",
      "     *\n",
      "*    *\n",
      "*    *\n",
      "******\n"
     ]
    }
   ],
   "source": [
    "for x in range(1,8):\n",
    "    if x==1:\n",
    "        print(\"**********\")\n",
    "    elif x==2 or x==3 or x==4:\n",
    "        print(\"     *\")\n",
    "    elif x==5 or x==6:\n",
    "        print(\"*    *\")\n",
    "    else:\n",
    "        print(\"******\")"
   ]
  },
  {
   "cell_type": "code",
   "execution_count": 12,
   "id": "6556e779",
   "metadata": {},
   "outputs": [
    {
     "name": "stdout",
     "output_type": "stream",
     "text": [
      "*     *\n",
      "*    *\n",
      "*   *\n",
      "* *\n",
      "*   *\n",
      "*    *\n",
      "*     *\n"
     ]
    }
   ],
   "source": [
    "for x in range(1,8):\n",
    "    if x==1 or x==7:\n",
    "        print(\"*     *\")\n",
    "    elif x==2 or x==6:\n",
    "        print(\"*    *\")\n",
    "    elif x==3 or x==5:\n",
    "        print(\"*   *\")\n",
    "    else:\n",
    "        print(\"* *\")"
   ]
  },
  {
   "cell_type": "code",
   "execution_count": 13,
   "id": "77be601a",
   "metadata": {},
   "outputs": [
    {
     "name": "stdout",
     "output_type": "stream",
     "text": [
      "*\n",
      "*\n",
      "*\n",
      "*\n",
      "*\n",
      "*\n",
      "* * * * *\n"
     ]
    }
   ],
   "source": [
    "for x in range(1,8):\n",
    "    if x==7:\n",
    "        print(\"* * * * *\")\n",
    "    else:\n",
    "        print(\"*\")"
   ]
  },
  {
   "cell_type": "code",
   "execution_count": 15,
   "id": "6082ab18",
   "metadata": {},
   "outputs": [
    {
     "name": "stdout",
     "output_type": "stream",
     "text": [
      "*         *\n",
      "* *     * *\n",
      "*   *  *  *\n",
      "*    *    *\n",
      "*         *\n",
      "*         *\n",
      "*         *\n"
     ]
    }
   ],
   "source": [
    "for x in range(1,8):\n",
    "    if x==1:\n",
    "        print(\"*         *\")\n",
    "    elif x==2:\n",
    "        print(\"* *     * *\")\n",
    "    elif x==3:\n",
    "        print(\"*   *  *  *\")\n",
    "    elif x==4:\n",
    "        print(\"*    *    *\")\n",
    "    else:\n",
    "        print(\"*         *\")"
   ]
  },
  {
   "cell_type": "code",
   "execution_count": 16,
   "id": "cf323bbf",
   "metadata": {},
   "outputs": [
    {
     "name": "stdout",
     "output_type": "stream",
     "text": [
      "*      *\n",
      "**     *\n",
      "* *    *\n",
      "*  *   *\n",
      "*   *  *\n",
      "*    * *\n",
      "*     **\n"
     ]
    }
   ],
   "source": [
    "for x in range(1,8):\n",
    "    if x==1:\n",
    "        print(\"*      *\")\n",
    "    elif x==2:\n",
    "        print(\"**     *\")\n",
    "    elif x==3:\n",
    "        print(\"* *    *\")\n",
    "    elif x==4:\n",
    "        print(\"*  *   *\")\n",
    "    elif x==5:\n",
    "        print(\"*   *  *\")\n",
    "    elif x==6:\n",
    "        print(\"*    * *\")\n",
    "    else:\n",
    "        print(\"*     **\")"
   ]
  },
  {
   "cell_type": "code",
   "execution_count": 17,
   "id": "60cd3ebf",
   "metadata": {},
   "outputs": [
    {
     "name": "stdout",
     "output_type": "stream",
     "text": [
      "  ******\n",
      "*        *\n",
      "*        *\n",
      "*        *\n",
      "*        *\n",
      "  ******\n"
     ]
    }
   ],
   "source": [
    "for x in range(1,7):\n",
    "    if x==1 or x==6:\n",
    "        print(\"  ******\")\n",
    "    else:\n",
    "        print(\"*        *\")"
   ]
  },
  {
   "cell_type": "code",
   "execution_count": 18,
   "id": "f1f0f192",
   "metadata": {},
   "outputs": [
    {
     "name": "stdout",
     "output_type": "stream",
     "text": [
      "******\n",
      "*     *\n",
      "*     *\n",
      "* * *\n",
      "*\n",
      "*\n",
      "*\n"
     ]
    }
   ],
   "source": [
    "for x in range(1,8):\n",
    "    if x==1:\n",
    "        print(\"******\")\n",
    "    elif x==2 or x==3:\n",
    "        print(\"*     *\")\n",
    "    elif x==4:\n",
    "        print(\"* * *\")\n",
    "    else:\n",
    "        print(\"*\")"
   ]
  },
  {
   "cell_type": "code",
   "execution_count": 20,
   "id": "c4646c34",
   "metadata": {},
   "outputs": [
    {
     "name": "stdout",
     "output_type": "stream",
     "text": [
      " ********\n",
      "*        *\n",
      "*        *\n",
      "*     *  *\n",
      "*      * *\n",
      " ********\n",
      "         *\n"
     ]
    }
   ],
   "source": [
    "for x in range(1,8):\n",
    "    if x==1:\n",
    "        print(\" ********\")\n",
    "    elif x==4:\n",
    "        print(\"*     *  *\")\n",
    "    elif x==5:\n",
    "        print(\"*      * *\")\n",
    "    elif x==6:\n",
    "        print(\" ********\")\n",
    "    elif x==7:\n",
    "        print(\"         *\")\n",
    "    else:\n",
    "        print(\"*        *\")"
   ]
  },
  {
   "cell_type": "code",
   "execution_count": 21,
   "id": "212a9945",
   "metadata": {},
   "outputs": [
    {
     "name": "stdout",
     "output_type": "stream",
     "text": [
      "******\n",
      "*     *\n",
      "*     *\n",
      "* * *\n",
      "*  *\n",
      "*   *\n",
      "*    *\n"
     ]
    }
   ],
   "source": [
    "for x in range(1,8):\n",
    "    if x==1:\n",
    "        print(\"******\")\n",
    "    elif x==2 or x==3:\n",
    "        print(\"*     *\")\n",
    "    elif x==4:\n",
    "        print(\"* * *\")\n",
    "    elif x==5:\n",
    "        print(\"*  *\")\n",
    "    elif x==6:\n",
    "        print(\"*   *\")\n",
    "    else:\n",
    "        print(\"*    *\")"
   ]
  },
  {
   "cell_type": "code",
   "execution_count": 22,
   "id": "ae489a01",
   "metadata": {},
   "outputs": [
    {
     "name": "stdout",
     "output_type": "stream",
     "text": [
      " *******\n",
      "*\n",
      "*\n",
      " *******\n",
      "        *\n",
      "        *\n",
      "******** \n"
     ]
    }
   ],
   "source": [
    "for x in range(1,8):\n",
    "    if x==1 or x==4:\n",
    "        print(\" *******\")\n",
    "    elif x==2 or x==3:\n",
    "        print(\"*\")\n",
    "    elif x==7:\n",
    "        print(\"******** \")\n",
    "    else:\n",
    "        print(\"        *\")"
   ]
  },
  {
   "cell_type": "code",
   "execution_count": 23,
   "id": "13a88adc",
   "metadata": {},
   "outputs": [
    {
     "name": "stdout",
     "output_type": "stream",
     "text": [
      "********\n",
      "   *   \n",
      "   *   \n",
      "   *   \n",
      "   *   \n",
      "   *   \n",
      "   *   \n"
     ]
    }
   ],
   "source": [
    "for x in range(1,8):\n",
    "    if x==1:\n",
    "        print(\"********\")\n",
    "    else:\n",
    "        print(\"   *   \")"
   ]
  },
  {
   "cell_type": "code",
   "execution_count": 25,
   "id": "e6eee596",
   "metadata": {},
   "outputs": [
    {
     "name": "stdout",
     "output_type": "stream",
     "text": [
      "*      *\n",
      "*      *\n",
      "*      *\n",
      "*      *\n",
      "*      *\n",
      " ******\n"
     ]
    }
   ],
   "source": [
    "for x in range(1,7):\n",
    "    if x==6:\n",
    "        print(\" ******\")\n",
    "    else:\n",
    "        print(\"*      *\")"
   ]
  },
  {
   "cell_type": "code",
   "execution_count": 26,
   "id": "20ae772a",
   "metadata": {},
   "outputs": [
    {
     "name": "stdout",
     "output_type": "stream",
     "text": [
      "*          *\n",
      " *        *\n",
      "  *      *\n",
      "    *  *\n",
      "     **\n"
     ]
    }
   ],
   "source": [
    "for x in range(1,6):\n",
    "    if x==1:\n",
    "        print(\"*          *\")\n",
    "    elif x==2:\n",
    "        print(\" *        *\")\n",
    "    elif x==3:\n",
    "        print(\"  *      *\")\n",
    "    elif x==4:\n",
    "        print(\"    *  *\")\n",
    "    else:\n",
    "        print(\"     **\")"
   ]
  },
  {
   "cell_type": "code",
   "execution_count": 27,
   "id": "41dfc465",
   "metadata": {},
   "outputs": [
    {
     "name": "stdout",
     "output_type": "stream",
     "text": [
      "*         *\n",
      "*         *\n",
      "*         *\n",
      "*    *    *\n",
      "*   *  *  *\n",
      "* *     * *\n",
      "*         *\n"
     ]
    }
   ],
   "source": [
    "for x in range(1,8):\n",
    "    if x==1:\n",
    "        print(\"*         *\")\n",
    "    elif x==6:\n",
    "        print(\"* *     * *\")\n",
    "    elif x==5:\n",
    "        print(\"*   *  *  *\")\n",
    "    elif x==4:\n",
    "        print(\"*    *    *\")\n",
    "    else:\n",
    "        print(\"*         *\")"
   ]
  },
  {
   "cell_type": "code",
   "execution_count": 28,
   "id": "64be34b2",
   "metadata": {},
   "outputs": [
    {
     "name": "stdout",
     "output_type": "stream",
     "text": [
      "*     *\n",
      " *   *\n",
      "  * *\n",
      "   *\n",
      "  * *\n",
      " *   *\n",
      "*     *\n"
     ]
    }
   ],
   "source": [
    "for x in range(1,8):\n",
    "    if x==1 or x==7:\n",
    "        print(\"*     *\")\n",
    "    elif x==2 or x==6:\n",
    "        print(\" *   *\")\n",
    "    elif x==3 or x==5:\n",
    "        print(\"  * *\")\n",
    "    else:\n",
    "        print(\"   *\")"
   ]
  },
  {
   "cell_type": "code",
   "execution_count": 29,
   "id": "a499ce66",
   "metadata": {},
   "outputs": [
    {
     "name": "stdout",
     "output_type": "stream",
     "text": [
      "*         *\n",
      " *       * \n",
      "  *     *\n",
      "    * *\n",
      "     *\n",
      "     *\n",
      "     *\n"
     ]
    }
   ],
   "source": [
    "for x in range(1,8):\n",
    "    if x==1:\n",
    "        print(\"*         *\")\n",
    "    elif x==2:\n",
    "        print(\" *       * \")\n",
    "    elif x==3:\n",
    "        print(\"  *     *\")\n",
    "    elif x==4:\n",
    "        print(\"    * *\")\n",
    "    else:\n",
    "        print(\"     *\")"
   ]
  },
  {
   "cell_type": "code",
   "execution_count": 30,
   "id": "33e0016c",
   "metadata": {},
   "outputs": [
    {
     "name": "stdout",
     "output_type": "stream",
     "text": [
      "*******\n",
      "     *\n",
      "    *\n",
      "   *\n",
      "  *\n",
      " *\n",
      "*******\n"
     ]
    }
   ],
   "source": [
    "for x in range(1,8):\n",
    "    if x==1 or x==7:\n",
    "        print(\"*******\")\n",
    "    elif x==2:\n",
    "        print(\"     *\")\n",
    "    elif x==3:\n",
    "        print(\"    *\")\n",
    "    elif x==4:\n",
    "        print(\"   *\")\n",
    "    elif x==5:\n",
    "        print(\"  *\")\n",
    "    else:\n",
    "        print(\" *\")"
   ]
  },
  {
   "cell_type": "code",
   "execution_count": null,
   "id": "a91a12f2",
   "metadata": {},
   "outputs": [],
   "source": []
  }
 ],
 "metadata": {
  "kernelspec": {
   "display_name": "Python 3 (ipykernel)",
   "language": "python",
   "name": "python3"
  },
  "language_info": {
   "codemirror_mode": {
    "name": "ipython",
    "version": 3
   },
   "file_extension": ".py",
   "mimetype": "text/x-python",
   "name": "python",
   "nbconvert_exporter": "python",
   "pygments_lexer": "ipython3",
   "version": "3.11.3"
  }
 },
 "nbformat": 4,
 "nbformat_minor": 5
}
