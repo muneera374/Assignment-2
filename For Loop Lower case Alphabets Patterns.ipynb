{
 "cells": [
  {
   "cell_type": "code",
   "execution_count": 1,
   "id": "69a32f92",
   "metadata": {},
   "outputs": [
    {
     "name": "stdout",
     "output_type": "stream",
     "text": [
      " ******\n",
      "*     *\n",
      "*     *\n",
      " *  * *\n",
      "      *\n"
     ]
    }
   ],
   "source": [
    "for x in range(1,6):\n",
    "    if x==1:\n",
    "        print(\" ******\")\n",
    "    elif x==2 or x==3:\n",
    "        print(\"*     *\")\n",
    "    elif x==4:\n",
    "        print(\" *  * *\")\n",
    "    else:\n",
    "        print(\"      *\")"
   ]
  },
  {
   "cell_type": "code",
   "execution_count": 2,
   "id": "ecf272f8",
   "metadata": {},
   "outputs": [
    {
     "name": "stdout",
     "output_type": "stream",
     "text": [
      "*\n",
      "*\n",
      "*\n",
      "* * *\n",
      "*     *\n",
      "*     *\n",
      "******\n"
     ]
    }
   ],
   "source": [
    "for x in range(1,8):\n",
    "    if x==7:\n",
    "        print(\"******\")\n",
    "    elif x==5 or x==6:\n",
    "        print(\"*     *\")\n",
    "    elif x==4:\n",
    "        print(\"* * *\")\n",
    "    else:\n",
    "        print(\"*\")"
   ]
  },
  {
   "cell_type": "code",
   "execution_count": 3,
   "id": "92cedf08",
   "metadata": {},
   "outputs": [
    {
     "name": "stdout",
     "output_type": "stream",
     "text": [
      "*********\n",
      "*     \n",
      "*     \n",
      "*     \n",
      "*     \n",
      "*********\n"
     ]
    }
   ],
   "source": [
    "for x in range(1,7):\n",
    "    if x==1 or x==6:\n",
    "        print(\"*********\")\n",
    "    else:\n",
    "        print(\"*     \")"
   ]
  },
  {
   "cell_type": "code",
   "execution_count": 4,
   "id": "61f2c973",
   "metadata": {},
   "outputs": [
    {
     "name": "stdout",
     "output_type": "stream",
     "text": [
      "      *\n",
      "      *\n",
      "      *\n",
      "* * * *\n",
      "*     *\n",
      "*     *\n",
      "******\n"
     ]
    }
   ],
   "source": [
    "for x in range(1,8):\n",
    "    if x==7:\n",
    "        print(\"******\")\n",
    "    elif x==5 or x==6:\n",
    "        print(\"*     *\")\n",
    "    elif x==4:\n",
    "        print(\"* * * *\")\n",
    "    else:\n",
    "        print(\"      *\")"
   ]
  },
  {
   "cell_type": "code",
   "execution_count": 5,
   "id": "2f82e185",
   "metadata": {},
   "outputs": [
    {
     "name": "stdout",
     "output_type": "stream",
     "text": [
      " *********\n",
      "*         *\n",
      "*         *\n",
      "* * * * * *\n",
      "*     \n",
      "*     \n",
      " *********\n"
     ]
    }
   ],
   "source": [
    "for x in range(1,8):\n",
    "    if x==1 or x==7:\n",
    "        print(\" *********\")\n",
    "    elif x==2 or x==3:\n",
    "        print(\"*         *\")\n",
    "    elif x==4:\n",
    "        print(\"* * * * * *\")\n",
    "    else:\n",
    "        print(\"*     \")"
   ]
  },
  {
   "cell_type": "code",
   "execution_count": 6,
   "id": "2a055732",
   "metadata": {},
   "outputs": [
    {
     "name": "stdout",
     "output_type": "stream",
     "text": [
      "      * * *\n",
      "     *     *\n",
      "     *\n",
      "     *\n",
      "  * * * * * \n",
      "     *\n",
      "     *\n",
      "     *\n",
      "     *\n"
     ]
    }
   ],
   "source": [
    "for x in range(1,10):\n",
    "    if x==1:\n",
    "        print(\"      * * *\")\n",
    "    elif x==2:\n",
    "        print(\"     *     *\")\n",
    "    elif x==5:\n",
    "        print(\"  * * * * * \")\n",
    "    else:\n",
    "        print(\"     *\")"
   ]
  },
  {
   "cell_type": "code",
   "execution_count": 7,
   "id": "4d7849f6",
   "metadata": {},
   "outputs": [
    {
     "name": "stdout",
     "output_type": "stream",
     "text": [
      " ******\n",
      "*     *\n",
      "*     *\n",
      " *  * *\n",
      "      *\n",
      "*     *\n",
      " ******\n"
     ]
    }
   ],
   "source": [
    "for x in range(1,8):\n",
    "    if x==1 or x==7:\n",
    "        print(\" ******\")\n",
    "    elif x==2 or x==3 or x==6:\n",
    "        print(\"*     *\")\n",
    "    elif x==4:\n",
    "        print(\" *  * *\")\n",
    "    else:\n",
    "        print(\"      *\")"
   ]
  },
  {
   "cell_type": "code",
   "execution_count": 8,
   "id": "300c3cbd",
   "metadata": {},
   "outputs": [
    {
     "name": "stdout",
     "output_type": "stream",
     "text": [
      "*\n",
      "*\n",
      "*\n",
      "* * * *\n",
      "*      *\n",
      "*      *\n",
      "*      *\n"
     ]
    }
   ],
   "source": [
    "for x in range(1,8):\n",
    "    if x==1 or x==2 or x==3:\n",
    "        print(\"*\")\n",
    "    elif x==4:\n",
    "        print(\"* * * *\")\n",
    "    else:\n",
    "        print(\"*      *\")"
   ]
  },
  {
   "cell_type": "code",
   "execution_count": 9,
   "id": "825bac04",
   "metadata": {},
   "outputs": [
    {
     "name": "stdout",
     "output_type": "stream",
     "text": [
      "#\n",
      " \n",
      "#\n",
      "#\n",
      "#\n",
      "#\n",
      "#\n"
     ]
    }
   ],
   "source": [
    "for x in range(1,8):\n",
    "    if x==1:\n",
    "        print(\"#\")\n",
    "    elif x==2:\n",
    "        print(\" \")\n",
    "    else:\n",
    "        print(\"#\")"
   ]
  },
  {
   "cell_type": "code",
   "execution_count": 10,
   "id": "eeca4655",
   "metadata": {},
   "outputs": [
    {
     "name": "stdout",
     "output_type": "stream",
     "text": [
      "     #\n",
      " \n",
      "     #\n",
      "     #\n",
      "#    #\n",
      "#    #\n",
      "######\n"
     ]
    }
   ],
   "source": [
    "for x in range(1,8):\n",
    "    if x==1:\n",
    "        print(\"     #\")\n",
    "    elif x==2:\n",
    "        print(\" \")\n",
    "    elif x==3 or x==4:\n",
    "        print(\"     #\")\n",
    "    elif x==5 or x==6:\n",
    "        print(\"#    #\")\n",
    "    else:\n",
    "        print(\"######\")"
   ]
  },
  {
   "cell_type": "code",
   "execution_count": 11,
   "id": "62f2705c",
   "metadata": {},
   "outputs": [
    {
     "name": "stdout",
     "output_type": "stream",
     "text": [
      "*     *\n",
      "*    *\n",
      "*   *\n",
      "* *\n",
      "*   *\n",
      "*    *\n",
      "*     *\n"
     ]
    }
   ],
   "source": [
    "for x in range(1,8):\n",
    "    if x==1 or x==7:\n",
    "        print(\"*     *\")\n",
    "    elif x==2 or x==6:\n",
    "        print(\"*    *\")\n",
    "    elif x==3 or x==5:\n",
    "        print(\"*   *\")\n",
    "    else:\n",
    "        print(\"* *\")"
   ]
  },
  {
   "cell_type": "code",
   "execution_count": 12,
   "id": "95f988ba",
   "metadata": {},
   "outputs": [
    {
     "name": "stdout",
     "output_type": "stream",
     "text": [
      "*\n",
      "*\n",
      "*\n",
      "*\n",
      "*\n",
      "*   *\n",
      "*  * \n"
     ]
    }
   ],
   "source": [
    "for x in range(1,8):\n",
    "    if x==7:\n",
    "        print(\"*  * \")\n",
    "    elif x==6:\n",
    "        print(\"*   *\")\n",
    "    else:\n",
    "        print(\"*\")"
   ]
  },
  {
   "cell_type": "code",
   "execution_count": 14,
   "id": "58a5aadd",
   "metadata": {},
   "outputs": [
    {
     "name": "stdout",
     "output_type": "stream",
     "text": [
      " * * * * * * *\n",
      "*      *      *\n",
      "*      *      *\n",
      "*      *      *\n",
      "*      *      *\n",
      "*             *\n"
     ]
    }
   ],
   "source": [
    "for x in range(1,7):\n",
    "    if x==1:\n",
    "         print(\" * * * * * * *\")\n",
    "    elif x==6:\n",
    "        print(\"*             *\")\n",
    "    else:\n",
    "        print(\"*      *      *\")"
   ]
  },
  {
   "cell_type": "code",
   "execution_count": 15,
   "id": "2c3461d6",
   "metadata": {},
   "outputs": [
    {
     "name": "stdout",
     "output_type": "stream",
     "text": [
      " \n",
      "* * * *\n",
      "*      *\n",
      "*      *\n",
      "*      *\n",
      "*      *\n"
     ]
    }
   ],
   "source": [
    "for x in range(1,7):\n",
    "    if x==1:\n",
    "        print(\" \")\n",
    "    elif x==2:\n",
    "        print(\"* * * *\")\n",
    "    else:\n",
    "        print(\"*      *\")"
   ]
  },
  {
   "cell_type": "code",
   "execution_count": 16,
   "id": "c4568578",
   "metadata": {},
   "outputs": [
    {
     "name": "stdout",
     "output_type": "stream",
     "text": [
      "  ******\n",
      "*        *\n",
      "*        *\n",
      "*        *\n",
      "*        *\n",
      "  ******\n"
     ]
    }
   ],
   "source": [
    "for x in range(1,7):\n",
    "    if x==1 or x==6:\n",
    "        print(\"  ******\")\n",
    "    else:\n",
    "        print(\"*        *\")"
   ]
  },
  {
   "cell_type": "code",
   "execution_count": 17,
   "id": "c9265c7e",
   "metadata": {},
   "outputs": [
    {
     "name": "stdout",
     "output_type": "stream",
     "text": [
      "******\n",
      "*     *\n",
      "*     *\n",
      "* * *\n",
      "*\n",
      "*\n",
      "*\n"
     ]
    }
   ],
   "source": [
    "for x in range(1,8):\n",
    "    if x==1:\n",
    "        print(\"******\")\n",
    "    elif x==2 or x==3:\n",
    "        print(\"*     *\")\n",
    "    elif x==4:\n",
    "        print(\"* * *\")\n",
    "    else:\n",
    "        print(\"*\")"
   ]
  },
  {
   "cell_type": "code",
   "execution_count": 18,
   "id": "df759130",
   "metadata": {},
   "outputs": [
    {
     "name": "stdout",
     "output_type": "stream",
     "text": [
      " ******\n",
      "*     *\n",
      "*     *\n",
      " *  * *\n",
      "      *   *\n",
      "      *  *\n",
      "      *\n"
     ]
    }
   ],
   "source": [
    "for x in range(1,8):\n",
    "    if x==1:\n",
    "        print(\" ******\")\n",
    "    elif x==2 or x==3:\n",
    "        print(\"*     *\")\n",
    "    elif x==4:\n",
    "        print(\" *  * *\")\n",
    "    elif x==5:\n",
    "        print(\"      *   *\")\n",
    "    elif x==6:\n",
    "        print(\"      *  *\")\n",
    "    else:\n",
    "        print(\"      *\")"
   ]
  },
  {
   "cell_type": "code",
   "execution_count": 19,
   "id": "afa945c5",
   "metadata": {},
   "outputs": [
    {
     "name": "stdout",
     "output_type": "stream",
     "text": [
      "*   *\n",
      "* * \n",
      "**\n",
      "*\n",
      "*\n",
      "*\n"
     ]
    }
   ],
   "source": [
    "for x in range(1,7):\n",
    "    if x==1:\n",
    "        print(\"*   *\")\n",
    "    elif x==2:\n",
    "        print(\"* * \")\n",
    "    elif x==3:\n",
    "        print(\"**\")\n",
    "    else:\n",
    "        print(\"*\")"
   ]
  },
  {
   "cell_type": "code",
   "execution_count": 20,
   "id": "08d6f880",
   "metadata": {},
   "outputs": [
    {
     "name": "stdout",
     "output_type": "stream",
     "text": [
      " *******\n",
      "*\n",
      "*\n",
      " *******\n",
      "        *\n",
      "        *\n",
      "******** \n"
     ]
    }
   ],
   "source": [
    "for x in range(1,8):\n",
    "    if x==1 or x==4:\n",
    "        print(\" *******\")\n",
    "    elif x==2 or x==3:\n",
    "        print(\"*\")\n",
    "    elif x==7:\n",
    "        print(\"******** \")\n",
    "    else:\n",
    "        print(\"        *\")"
   ]
  },
  {
   "cell_type": "code",
   "execution_count": 21,
   "id": "b6f628be",
   "metadata": {},
   "outputs": [
    {
     "name": "stdout",
     "output_type": "stream",
     "text": [
      "     *\n",
      "     *\n",
      "     *\n",
      "     *\n",
      "  * * * * * \n",
      "     *\n",
      "     *\n",
      "     *     *\n",
      "      * * *\n"
     ]
    }
   ],
   "source": [
    "for x in range(1,10):\n",
    "    if x==9:\n",
    "        print(\"      * * *\")\n",
    "    elif x==8:\n",
    "        print(\"     *     *\")\n",
    "    elif x==5:\n",
    "        print(\"  * * * * * \")\n",
    "    else:\n",
    "        print(\"     *\")"
   ]
  },
  {
   "cell_type": "code",
   "execution_count": 22,
   "id": "a3b93130",
   "metadata": {},
   "outputs": [
    {
     "name": "stdout",
     "output_type": "stream",
     "text": [
      "*      *\n",
      "*      *\n",
      "*      *\n",
      "*      *\n",
      "*      *\n",
      " *******\n"
     ]
    }
   ],
   "source": [
    "for x in range(1,7):\n",
    "    if x==6:\n",
    "        print(\" *******\")\n",
    "    else:\n",
    "        print(\"*      *\")"
   ]
  },
  {
   "cell_type": "code",
   "execution_count": 23,
   "id": "83c871ed",
   "metadata": {},
   "outputs": [
    {
     "name": "stdout",
     "output_type": "stream",
     "text": [
      "*          *\n",
      " *        *\n",
      "  *      *\n",
      "    *  *\n",
      "     **\n"
     ]
    }
   ],
   "source": [
    "for x in range(1,6):\n",
    "    if x==1:\n",
    "        print(\"*          *\")\n",
    "    elif x==2:\n",
    "        print(\" *        *\")\n",
    "    elif x==3:\n",
    "        print(\"  *      *\")\n",
    "    elif x==4:\n",
    "        print(\"    *  *\")\n",
    "    else:\n",
    "        print(\"     **\")"
   ]
  },
  {
   "cell_type": "code",
   "execution_count": 24,
   "id": "b9bc6fe4",
   "metadata": {},
   "outputs": [
    {
     "name": "stdout",
     "output_type": "stream",
     "text": [
      "*         *\n",
      "*         *\n",
      "*         *\n",
      "*    *    *\n",
      "*   *  *  *\n",
      "* *     * *\n",
      "*         *\n"
     ]
    }
   ],
   "source": [
    "for x in range(1,8):\n",
    "    if x==1:\n",
    "        print(\"*         *\")\n",
    "    elif x==6:\n",
    "        print(\"* *     * *\")\n",
    "    elif x==5:\n",
    "        print(\"*   *  *  *\")\n",
    "    elif x==4:\n",
    "        print(\"*    *    *\")\n",
    "    else:\n",
    "        print(\"*         *\")"
   ]
  },
  {
   "cell_type": "code",
   "execution_count": 25,
   "id": "e2417a99",
   "metadata": {},
   "outputs": [
    {
     "name": "stdout",
     "output_type": "stream",
     "text": [
      "*     *\n",
      " *   *\n",
      "  * *\n",
      "   *\n",
      "  * *\n",
      " *   *\n",
      "*     *\n"
     ]
    }
   ],
   "source": [
    "for x in range(1,8):\n",
    "    if x==1 or x==7:\n",
    "        print(\"*     *\")\n",
    "    elif x==2 or x==6:\n",
    "        print(\" *   *\")\n",
    "    elif x==3 or x==5:\n",
    "        print(\"  * *\")\n",
    "    else:\n",
    "        print(\"   *\")"
   ]
  },
  {
   "cell_type": "code",
   "execution_count": 26,
   "id": "9be82f52",
   "metadata": {},
   "outputs": [
    {
     "name": "stdout",
     "output_type": "stream",
     "text": [
      "*         *\n",
      " *       * \n",
      "  *     *\n",
      "    * *\n",
      "     *\n",
      "     *\n",
      "     *\n"
     ]
    }
   ],
   "source": [
    "for x in range(1,8):\n",
    "    if x==1:\n",
    "        print(\"*         *\")\n",
    "    elif x==2:\n",
    "        print(\" *       * \")\n",
    "    elif x==3:\n",
    "        print(\"  *     *\")\n",
    "    elif x==4:\n",
    "        print(\"    * *\")\n",
    "    else:\n",
    "        print(\"     *\")"
   ]
  },
  {
   "cell_type": "code",
   "execution_count": 27,
   "id": "18eed0e3",
   "metadata": {},
   "outputs": [
    {
     "name": "stdout",
     "output_type": "stream",
     "text": [
      "*******\n",
      "     *\n",
      "    *\n",
      "   *\n",
      "  *\n",
      " *\n",
      "*******\n"
     ]
    }
   ],
   "source": [
    "for x in range(1,8):\n",
    "    if x==1 or x==7:\n",
    "        print(\"*******\")\n",
    "    elif x==2:\n",
    "        print(\"     *\")\n",
    "    elif x==3:\n",
    "        print(\"    *\")\n",
    "    elif x==4:\n",
    "        print(\"   *\")\n",
    "    elif x==5:\n",
    "        print(\"  *\")\n",
    "    else:\n",
    "        print(\" *\")"
   ]
  },
  {
   "cell_type": "code",
   "execution_count": null,
   "id": "0e8178c3",
   "metadata": {},
   "outputs": [],
   "source": []
  }
 ],
 "metadata": {
  "kernelspec": {
   "display_name": "Python 3 (ipykernel)",
   "language": "python",
   "name": "python3"
  },
  "language_info": {
   "codemirror_mode": {
    "name": "ipython",
    "version": 3
   },
   "file_extension": ".py",
   "mimetype": "text/x-python",
   "name": "python",
   "nbconvert_exporter": "python",
   "pygments_lexer": "ipython3",
   "version": "3.11.3"
  }
 },
 "nbformat": 4,
 "nbformat_minor": 5
}
